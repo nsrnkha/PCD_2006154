{
  "metadata": {
    "kernelspec": {
      "language": "python",
      "display_name": "Python 3",
      "name": "python3"
    },
    "language_info": {
      "name": "python",
      "version": "3.7.9",
      "mimetype": "text/x-python",
      "codemirror_mode": {
        "name": "ipython",
        "version": 3
      },
      "pygments_lexer": "ipython3",
      "nbconvert_exporter": "python",
      "file_extension": ".py"
    },
    "colab": {
      "provenance": [],
      "include_colab_link": true
    }
  },
  "nbformat_minor": 0,
  "nbformat": 4,
  "cells": [
    {
      "cell_type": "markdown",
      "metadata": {
        "id": "view-in-github",
        "colab_type": "text"
      },
      "source": [
        "<a href=\"https://colab.research.google.com/github/nsrnkha/PCD_2006154/blob/main/Image_clasification.ipynb\" target=\"_parent\"><img src=\"https://colab.research.google.com/assets/colab-badge.svg\" alt=\"Open In Colab\"/></a>"
      ]
    },
    {
      "cell_type": "code",
      "source": [
        "import numpy as np\n",
        "import pandas as pd\n",
        "from pathlib import Path\n",
        "import os.path\n",
        "\n",
        "from sklearn.model_selection import train_test_split\n",
        "\n",
        "import tensorflow as tf"
      ],
      "metadata": {
        "execution": {
          "iopub.status.busy": "2023-01-05T13:23:18.382467Z",
          "iopub.execute_input": "2023-01-05T13:23:18.383349Z",
          "iopub.status.idle": "2023-01-05T13:23:26.478636Z",
          "shell.execute_reply.started": "2023-01-05T13:23:18.383207Z",
          "shell.execute_reply": "2023-01-05T13:23:26.477574Z"
        },
        "trusted": true,
        "id": "qp6Dyed6ISJH"
      },
      "execution_count": null,
      "outputs": []
    },
    {
      "cell_type": "code",
      "source": [
        "image_dir = Path('../input/basicshapes/shapes/shapes')"
      ],
      "metadata": {
        "execution": {
          "iopub.status.busy": "2023-01-05T13:23:26.481059Z",
          "iopub.execute_input": "2023-01-05T13:23:26.481524Z",
          "iopub.status.idle": "2023-01-05T13:23:26.493139Z",
          "shell.execute_reply.started": "2023-01-05T13:23:26.481476Z",
          "shell.execute_reply": "2023-01-05T13:23:26.491526Z"
        },
        "trusted": true,
        "id": "t85VHv-xISJI"
      },
      "execution_count": null,
      "outputs": []
    },
    {
      "cell_type": "markdown",
      "source": [
        "# Creating File DataFrame"
      ],
      "metadata": {
        "id": "I6hMYPZtISJJ"
      }
    },
    {
      "cell_type": "code",
      "source": [
        "filepaths = list(image_dir.glob(r'**/*.png'))\n",
        "labels = list(map(lambda x: os.path.split(os.path.split(x)[0])[1], filepaths))\n",
        "\n",
        "filepaths = pd.Series(filepaths, name='Filepath').astype(str)\n",
        "labels = pd.Series(labels, name='Label')\n",
        "\n",
        "image_df = pd.concat([filepaths, labels], axis=1)\n",
        "\n",
        "train_df, test_df = train_test_split(image_df, train_size=0.7, shuffle=True, random_state=1)"
      ],
      "metadata": {
        "execution": {
          "iopub.status.busy": "2023-01-05T13:23:26.495103Z",
          "iopub.execute_input": "2023-01-05T13:23:26.495640Z",
          "iopub.status.idle": "2023-01-05T13:23:26.585161Z",
          "shell.execute_reply.started": "2023-01-05T13:23:26.495586Z",
          "shell.execute_reply": "2023-01-05T13:23:26.584104Z"
        },
        "trusted": true,
        "id": "Bm-lPTjvISJJ"
      },
      "execution_count": null,
      "outputs": []
    },
    {
      "cell_type": "code",
      "source": [
        "train_df"
      ],
      "metadata": {
        "execution": {
          "iopub.status.busy": "2023-01-05T13:23:26.588058Z",
          "iopub.execute_input": "2023-01-05T13:23:26.588607Z",
          "iopub.status.idle": "2023-01-05T13:23:26.620190Z",
          "shell.execute_reply.started": "2023-01-05T13:23:26.588553Z",
          "shell.execute_reply": "2023-01-05T13:23:26.618826Z"
        },
        "trusted": true,
        "id": "qfjDQ0j_ISJK",
        "outputId": "37f71b98-92a1-4fcf-9839-b51983aa302e"
      },
      "execution_count": null,
      "outputs": [
        {
          "execution_count": 4,
          "output_type": "execute_result",
          "data": {
            "text/plain": "                                              Filepath    Label\n253  ../input/basicshapes/shapes/shapes/squares/dra...  squares\n19   ../input/basicshapes/shapes/shapes/circles/dra...  circles\n14   ../input/basicshapes/shapes/shapes/circles/dra...  circles\n91   ../input/basicshapes/shapes/shapes/circles/dra...  circles\n296  ../input/basicshapes/shapes/shapes/squares/dra...  squares\n..                                                 ...      ...\n203  ../input/basicshapes/shapes/shapes/squares/dra...  squares\n255  ../input/basicshapes/shapes/shapes/squares/dra...  squares\n72   ../input/basicshapes/shapes/shapes/circles/dra...  circles\n235  ../input/basicshapes/shapes/shapes/squares/dra...  squares\n37   ../input/basicshapes/shapes/shapes/circles/dra...  circles\n\n[210 rows x 2 columns]",
            "text/html": "<div>\n<style scoped>\n    .dataframe tbody tr th:only-of-type {\n        vertical-align: middle;\n    }\n\n    .dataframe tbody tr th {\n        vertical-align: top;\n    }\n\n    .dataframe thead th {\n        text-align: right;\n    }\n</style>\n<table border=\"1\" class=\"dataframe\">\n  <thead>\n    <tr style=\"text-align: right;\">\n      <th></th>\n      <th>Filepath</th>\n      <th>Label</th>\n    </tr>\n  </thead>\n  <tbody>\n    <tr>\n      <th>253</th>\n      <td>../input/basicshapes/shapes/shapes/squares/dra...</td>\n      <td>squares</td>\n    </tr>\n    <tr>\n      <th>19</th>\n      <td>../input/basicshapes/shapes/shapes/circles/dra...</td>\n      <td>circles</td>\n    </tr>\n    <tr>\n      <th>14</th>\n      <td>../input/basicshapes/shapes/shapes/circles/dra...</td>\n      <td>circles</td>\n    </tr>\n    <tr>\n      <th>91</th>\n      <td>../input/basicshapes/shapes/shapes/circles/dra...</td>\n      <td>circles</td>\n    </tr>\n    <tr>\n      <th>296</th>\n      <td>../input/basicshapes/shapes/shapes/squares/dra...</td>\n      <td>squares</td>\n    </tr>\n    <tr>\n      <th>...</th>\n      <td>...</td>\n      <td>...</td>\n    </tr>\n    <tr>\n      <th>203</th>\n      <td>../input/basicshapes/shapes/shapes/squares/dra...</td>\n      <td>squares</td>\n    </tr>\n    <tr>\n      <th>255</th>\n      <td>../input/basicshapes/shapes/shapes/squares/dra...</td>\n      <td>squares</td>\n    </tr>\n    <tr>\n      <th>72</th>\n      <td>../input/basicshapes/shapes/shapes/circles/dra...</td>\n      <td>circles</td>\n    </tr>\n    <tr>\n      <th>235</th>\n      <td>../input/basicshapes/shapes/shapes/squares/dra...</td>\n      <td>squares</td>\n    </tr>\n    <tr>\n      <th>37</th>\n      <td>../input/basicshapes/shapes/shapes/circles/dra...</td>\n      <td>circles</td>\n    </tr>\n  </tbody>\n</table>\n<p>210 rows × 2 columns</p>\n</div>"
          },
          "metadata": {}
        }
      ]
    },
    {
      "cell_type": "code",
      "source": [
        "test_df"
      ],
      "metadata": {
        "execution": {
          "iopub.status.busy": "2023-01-05T13:23:26.624467Z",
          "iopub.execute_input": "2023-01-05T13:23:26.625617Z",
          "iopub.status.idle": "2023-01-05T13:23:26.643954Z",
          "shell.execute_reply.started": "2023-01-05T13:23:26.625502Z",
          "shell.execute_reply": "2023-01-05T13:23:26.641834Z"
        },
        "trusted": true,
        "id": "_YPPx1PTISJL",
        "outputId": "c50dde46-c3bf-4b8f-955e-c8a088077c6c"
      },
      "execution_count": null,
      "outputs": [
        {
          "execution_count": 5,
          "output_type": "execute_result",
          "data": {
            "text/plain": "                                              Filepath      Label\n189  ../input/basicshapes/shapes/shapes/triangles/d...  triangles\n123  ../input/basicshapes/shapes/shapes/triangles/d...  triangles\n185  ../input/basicshapes/shapes/shapes/triangles/d...  triangles\n213  ../input/basicshapes/shapes/shapes/squares/dra...    squares\n106  ../input/basicshapes/shapes/shapes/triangles/d...  triangles\n..                                                 ...        ...\n181  ../input/basicshapes/shapes/shapes/triangles/d...  triangles\n290  ../input/basicshapes/shapes/shapes/squares/dra...    squares\n244  ../input/basicshapes/shapes/shapes/squares/dra...    squares\n197  ../input/basicshapes/shapes/shapes/triangles/d...  triangles\n279  ../input/basicshapes/shapes/shapes/squares/dra...    squares\n\n[90 rows x 2 columns]",
            "text/html": "<div>\n<style scoped>\n    .dataframe tbody tr th:only-of-type {\n        vertical-align: middle;\n    }\n\n    .dataframe tbody tr th {\n        vertical-align: top;\n    }\n\n    .dataframe thead th {\n        text-align: right;\n    }\n</style>\n<table border=\"1\" class=\"dataframe\">\n  <thead>\n    <tr style=\"text-align: right;\">\n      <th></th>\n      <th>Filepath</th>\n      <th>Label</th>\n    </tr>\n  </thead>\n  <tbody>\n    <tr>\n      <th>189</th>\n      <td>../input/basicshapes/shapes/shapes/triangles/d...</td>\n      <td>triangles</td>\n    </tr>\n    <tr>\n      <th>123</th>\n      <td>../input/basicshapes/shapes/shapes/triangles/d...</td>\n      <td>triangles</td>\n    </tr>\n    <tr>\n      <th>185</th>\n      <td>../input/basicshapes/shapes/shapes/triangles/d...</td>\n      <td>triangles</td>\n    </tr>\n    <tr>\n      <th>213</th>\n      <td>../input/basicshapes/shapes/shapes/squares/dra...</td>\n      <td>squares</td>\n    </tr>\n    <tr>\n      <th>106</th>\n      <td>../input/basicshapes/shapes/shapes/triangles/d...</td>\n      <td>triangles</td>\n    </tr>\n    <tr>\n      <th>...</th>\n      <td>...</td>\n      <td>...</td>\n    </tr>\n    <tr>\n      <th>181</th>\n      <td>../input/basicshapes/shapes/shapes/triangles/d...</td>\n      <td>triangles</td>\n    </tr>\n    <tr>\n      <th>290</th>\n      <td>../input/basicshapes/shapes/shapes/squares/dra...</td>\n      <td>squares</td>\n    </tr>\n    <tr>\n      <th>244</th>\n      <td>../input/basicshapes/shapes/shapes/squares/dra...</td>\n      <td>squares</td>\n    </tr>\n    <tr>\n      <th>197</th>\n      <td>../input/basicshapes/shapes/shapes/triangles/d...</td>\n      <td>triangles</td>\n    </tr>\n    <tr>\n      <th>279</th>\n      <td>../input/basicshapes/shapes/shapes/squares/dra...</td>\n      <td>squares</td>\n    </tr>\n  </tbody>\n</table>\n<p>90 rows × 2 columns</p>\n</div>"
          },
          "metadata": {}
        }
      ]
    },
    {
      "cell_type": "markdown",
      "source": [
        "# Loading Image Data"
      ],
      "metadata": {
        "id": "AYk7_cRWISJL"
      }
    },
    {
      "cell_type": "code",
      "source": [
        "train_generator = tf.keras.preprocessing.image.ImageDataGenerator(\n",
        "    rescale=1./255,\n",
        "    validation_split=0.2\n",
        ")\n",
        "\n",
        "test_generator = tf.keras.preprocessing.image.ImageDataGenerator(\n",
        "    rescale=1./255\n",
        ")"
      ],
      "metadata": {
        "execution": {
          "iopub.status.busy": "2023-01-05T13:23:26.646047Z",
          "iopub.execute_input": "2023-01-05T13:23:26.646982Z",
          "iopub.status.idle": "2023-01-05T13:23:26.653846Z",
          "shell.execute_reply.started": "2023-01-05T13:23:26.646900Z",
          "shell.execute_reply": "2023-01-05T13:23:26.652835Z"
        },
        "trusted": true,
        "id": "4hRjWMCMISJM"
      },
      "execution_count": null,
      "outputs": []
    },
    {
      "cell_type": "code",
      "source": [
        "train_images = train_generator.flow_from_dataframe(\n",
        "    dataframe=train_df,\n",
        "    x_col='Filepath',\n",
        "    y_col='Label',\n",
        "    target_size=(28, 28),\n",
        "    color_mode='grayscale',\n",
        "    class_mode='categorical',\n",
        "    batch_size=32,\n",
        "    shuffle=True,\n",
        "    seed=42,\n",
        "    subset='training'\n",
        ")\n",
        "\n",
        "val_images = train_generator.flow_from_dataframe(\n",
        "    dataframe=train_df,\n",
        "    x_col='Filepath',\n",
        "    y_col='Label',\n",
        "    target_size=(28, 28),\n",
        "    color_mode='grayscale',\n",
        "    class_mode='categorical',\n",
        "    batch_size=32,\n",
        "    shuffle=True,\n",
        "    seed=42,\n",
        "    subset='validation'\n",
        ")\n",
        "\n",
        "test_images = test_generator.flow_from_dataframe(\n",
        "    dataframe=test_df,\n",
        "    x_col='Filepath',\n",
        "    y_col='Label',\n",
        "    target_size=(28, 28),\n",
        "    color_mode='grayscale',\n",
        "    class_mode='categorical',\n",
        "    batch_size=32,\n",
        "    shuffle=False\n",
        ")"
      ],
      "metadata": {
        "execution": {
          "iopub.status.busy": "2023-01-05T13:23:26.655510Z",
          "iopub.execute_input": "2023-01-05T13:23:26.656286Z",
          "iopub.status.idle": "2023-01-05T13:23:26.712201Z",
          "shell.execute_reply.started": "2023-01-05T13:23:26.656238Z",
          "shell.execute_reply": "2023-01-05T13:23:26.710903Z"
        },
        "trusted": true,
        "id": "szDPKGrAISJM",
        "outputId": "1213fea0-6b99-4fb8-d680-258d7daa560b"
      },
      "execution_count": null,
      "outputs": [
        {
          "name": "stdout",
          "text": "Found 168 validated image filenames belonging to 3 classes.\nFound 42 validated image filenames belonging to 3 classes.\nFound 90 validated image filenames belonging to 3 classes.\n",
          "output_type": "stream"
        }
      ]
    },
    {
      "cell_type": "markdown",
      "source": [
        "# Training"
      ],
      "metadata": {
        "id": "m0OkpbGPISJN"
      }
    },
    {
      "cell_type": "code",
      "source": [
        "inputs = tf.keras.Input(shape=(28, 28, 1))\n",
        "x = tf.keras.layers.Conv2D(filters=6, kernel_size=(3, 3), activation='relu')(inputs)\n",
        "x = tf.keras.layers.MaxPooling2D()(x)\n",
        "x = tf.keras.layers.Conv2D(filters=16, kernel_size=(3, 3), activation='relu')(x)\n",
        "x = tf.keras.layers.MaxPooling2D()(x)\n",
        "x = tf.keras.layers.GlobalAveragePooling2D()(x)\n",
        "x = tf.keras.layers.Dense(64, activation='relu')(x)\n",
        "x = tf.keras.layers.Dense(64, activation='relu')(x)\n",
        "outputs = tf.keras.layers.Dense(3, activation='softmax')(x)\n",
        "\n",
        "model = tf.keras.Model(inputs=inputs, outputs=outputs)\n",
        "\n",
        "model.compile(\n",
        "    optimizer='adam',\n",
        "    loss='categorical_crossentropy',\n",
        "    metrics=['accuracy']\n",
        ")\n",
        "\n",
        "history = model.fit(\n",
        "    train_images,\n",
        "    validation_data=val_images,\n",
        "    epochs=100,\n",
        "    callbacks=[\n",
        "        tf.keras.callbacks.ModelCheckpoint('./model.h5', save_best_only=True, save_weights_only=True)\n",
        "    ]\n",
        ")"
      ],
      "metadata": {
        "execution": {
          "iopub.status.busy": "2023-01-05T13:23:26.713893Z",
          "iopub.execute_input": "2023-01-05T13:23:26.714396Z",
          "iopub.status.idle": "2023-01-05T13:24:05.639781Z",
          "shell.execute_reply.started": "2023-01-05T13:23:26.714349Z",
          "shell.execute_reply": "2023-01-05T13:24:05.638020Z"
        },
        "trusted": true,
        "id": "HISJ6FMfISJN",
        "outputId": "6ceb33e3-d466-4774-c655-43a7cd47e112"
      },
      "execution_count": null,
      "outputs": [
        {
          "name": "stdout",
          "text": "Epoch 1/100\n6/6 [==============================] - 2s 207ms/step - loss: 1.0995 - accuracy: 0.3223 - val_loss: 1.1016 - val_accuracy: 0.3333\nEpoch 2/100\n6/6 [==============================] - 0s 50ms/step - loss: 1.0939 - accuracy: 0.3828 - val_loss: 1.1011 - val_accuracy: 0.3333\nEpoch 3/100\n6/6 [==============================] - 0s 50ms/step - loss: 1.0972 - accuracy: 0.3410 - val_loss: 1.0998 - val_accuracy: 0.2619\nEpoch 4/100\n6/6 [==============================] - 0s 52ms/step - loss: 1.0991 - accuracy: 0.3305 - val_loss: 1.0979 - val_accuracy: 0.3333\nEpoch 5/100\n6/6 [==============================] - 0s 55ms/step - loss: 1.0971 - accuracy: 0.4012 - val_loss: 1.0990 - val_accuracy: 0.3810\nEpoch 6/100\n6/6 [==============================] - 0s 52ms/step - loss: 1.0977 - accuracy: 0.4832 - val_loss: 1.1007 - val_accuracy: 0.5476\nEpoch 7/100\n6/6 [==============================] - 0s 55ms/step - loss: 1.0961 - accuracy: 0.4034 - val_loss: 1.1085 - val_accuracy: 0.2619\nEpoch 8/100\n6/6 [==============================] - 0s 55ms/step - loss: 1.0989 - accuracy: 0.3195 - val_loss: 1.1058 - val_accuracy: 0.2619\nEpoch 9/100\n6/6 [==============================] - 0s 54ms/step - loss: 1.0967 - accuracy: 0.3373 - val_loss: 1.1021 - val_accuracy: 0.2619\nEpoch 10/100\n6/6 [==============================] - 0s 56ms/step - loss: 1.0966 - accuracy: 0.3536 - val_loss: 1.0957 - val_accuracy: 0.5476\nEpoch 11/100\n6/6 [==============================] - 0s 57ms/step - loss: 1.0947 - accuracy: 0.5627 - val_loss: 1.0941 - val_accuracy: 0.5238\nEpoch 12/100\n6/6 [==============================] - 0s 57ms/step - loss: 1.0941 - accuracy: 0.4538 - val_loss: 1.0931 - val_accuracy: 0.4762\nEpoch 13/100\n6/6 [==============================] - 0s 52ms/step - loss: 1.0944 - accuracy: 0.4119 - val_loss: 1.0918 - val_accuracy: 0.4762\nEpoch 14/100\n6/6 [==============================] - 0s 54ms/step - loss: 1.0952 - accuracy: 0.4081 - val_loss: 1.0896 - val_accuracy: 0.4524\nEpoch 15/100\n6/6 [==============================] - 0s 54ms/step - loss: 1.0922 - accuracy: 0.4336 - val_loss: 1.0926 - val_accuracy: 0.5476\nEpoch 16/100\n6/6 [==============================] - 0s 67ms/step - loss: 1.0918 - accuracy: 0.4321 - val_loss: 1.0953 - val_accuracy: 0.2619\nEpoch 17/100\n6/6 [==============================] - 1s 189ms/step - loss: 1.0876 - accuracy: 0.3503 - val_loss: 1.0900 - val_accuracy: 0.3333\nEpoch 18/100\n6/6 [==============================] - 1s 158ms/step - loss: 1.0867 - accuracy: 0.4415 - val_loss: 1.0897 - val_accuracy: 0.3333\nEpoch 19/100\n6/6 [==============================] - 0s 56ms/step - loss: 1.0939 - accuracy: 0.3369 - val_loss: 1.0858 - val_accuracy: 0.3333\nEpoch 20/100\n6/6 [==============================] - 0s 51ms/step - loss: 1.0985 - accuracy: 0.3114 - val_loss: 1.0831 - val_accuracy: 0.6667\nEpoch 21/100\n6/6 [==============================] - 0s 50ms/step - loss: 1.0840 - accuracy: 0.5688 - val_loss: 1.0820 - val_accuracy: 0.5476\nEpoch 22/100\n6/6 [==============================] - 0s 57ms/step - loss: 1.0827 - accuracy: 0.5135 - val_loss: 1.0798 - val_accuracy: 0.5714\nEpoch 23/100\n6/6 [==============================] - 0s 57ms/step - loss: 1.0760 - accuracy: 0.4893 - val_loss: 1.0811 - val_accuracy: 0.5476\nEpoch 24/100\n6/6 [==============================] - 0s 60ms/step - loss: 1.0780 - accuracy: 0.4998 - val_loss: 1.0680 - val_accuracy: 0.5476\nEpoch 25/100\n6/6 [==============================] - 0s 48ms/step - loss: 1.0768 - accuracy: 0.4227 - val_loss: 1.0544 - val_accuracy: 0.5000\nEpoch 26/100\n6/6 [==============================] - 0s 58ms/step - loss: 1.0629 - accuracy: 0.4708 - val_loss: 1.0765 - val_accuracy: 0.2857\nEpoch 27/100\n6/6 [==============================] - 0s 47ms/step - loss: 1.0498 - accuracy: 0.4685 - val_loss: 1.0471 - val_accuracy: 0.5714\nEpoch 28/100\n6/6 [==============================] - 0s 58ms/step - loss: 1.0398 - accuracy: 0.5688 - val_loss: 1.0603 - val_accuracy: 0.3333\nEpoch 29/100\n6/6 [==============================] - 0s 52ms/step - loss: 1.0485 - accuracy: 0.4048 - val_loss: 1.0207 - val_accuracy: 0.6667\nEpoch 30/100\n6/6 [==============================] - 0s 51ms/step - loss: 1.0311 - accuracy: 0.5239 - val_loss: 1.0136 - val_accuracy: 0.5714\nEpoch 31/100\n6/6 [==============================] - 0s 52ms/step - loss: 1.0210 - accuracy: 0.6480 - val_loss: 0.9919 - val_accuracy: 0.5714\nEpoch 32/100\n6/6 [==============================] - 0s 52ms/step - loss: 0.9974 - accuracy: 0.6342 - val_loss: 0.9777 - val_accuracy: 0.7143\nEpoch 33/100\n6/6 [==============================] - 0s 63ms/step - loss: 1.0102 - accuracy: 0.5517 - val_loss: 0.9981 - val_accuracy: 0.4524\nEpoch 34/100\n6/6 [==============================] - 0s 54ms/step - loss: 0.9699 - accuracy: 0.5508 - val_loss: 0.9555 - val_accuracy: 0.5714\nEpoch 35/100\n6/6 [==============================] - 0s 52ms/step - loss: 0.9715 - accuracy: 0.5652 - val_loss: 0.9379 - val_accuracy: 0.5714\nEpoch 36/100\n6/6 [==============================] - 0s 48ms/step - loss: 0.9506 - accuracy: 0.5666 - val_loss: 0.9163 - val_accuracy: 0.5476\nEpoch 37/100\n6/6 [==============================] - 0s 57ms/step - loss: 0.9327 - accuracy: 0.5740 - val_loss: 0.8948 - val_accuracy: 0.5714\nEpoch 38/100\n6/6 [==============================] - 0s 65ms/step - loss: 0.9068 - accuracy: 0.5464 - val_loss: 0.8751 - val_accuracy: 0.5714\nEpoch 39/100\n6/6 [==============================] - 0s 57ms/step - loss: 0.8767 - accuracy: 0.5746 - val_loss: 0.8840 - val_accuracy: 0.5476\nEpoch 40/100\n6/6 [==============================] - 0s 59ms/step - loss: 0.8745 - accuracy: 0.6060 - val_loss: 0.8210 - val_accuracy: 0.5952\nEpoch 41/100\n6/6 [==============================] - 0s 54ms/step - loss: 0.8360 - accuracy: 0.6305 - val_loss: 0.8536 - val_accuracy: 0.5714\nEpoch 42/100\n6/6 [==============================] - 0s 49ms/step - loss: 0.8692 - accuracy: 0.5819 - val_loss: 0.9976 - val_accuracy: 0.3810\nEpoch 43/100\n6/6 [==============================] - 0s 52ms/step - loss: 0.9326 - accuracy: 0.4687 - val_loss: 0.8327 - val_accuracy: 0.5476\nEpoch 44/100\n6/6 [==============================] - 0s 53ms/step - loss: 0.8755 - accuracy: 0.5685 - val_loss: 0.7892 - val_accuracy: 0.5952\nEpoch 45/100\n6/6 [==============================] - 0s 60ms/step - loss: 0.8025 - accuracy: 0.6939 - val_loss: 0.7534 - val_accuracy: 0.6667\nEpoch 46/100\n6/6 [==============================] - 0s 63ms/step - loss: 0.7934 - accuracy: 0.6076 - val_loss: 0.7237 - val_accuracy: 0.6905\nEpoch 47/100\n6/6 [==============================] - 0s 51ms/step - loss: 0.7697 - accuracy: 0.7093 - val_loss: 0.7503 - val_accuracy: 0.6190\nEpoch 48/100\n6/6 [==============================] - 0s 53ms/step - loss: 0.7596 - accuracy: 0.7000 - val_loss: 0.6959 - val_accuracy: 0.7381\nEpoch 49/100\n6/6 [==============================] - 0s 75ms/step - loss: 0.7977 - accuracy: 0.6248 - val_loss: 0.7041 - val_accuracy: 0.6667\nEpoch 50/100\n6/6 [==============================] - 0s 57ms/step - loss: 0.7108 - accuracy: 0.7031 - val_loss: 0.7663 - val_accuracy: 0.5714\nEpoch 51/100\n6/6 [==============================] - 0s 59ms/step - loss: 0.7549 - accuracy: 0.6115 - val_loss: 0.6550 - val_accuracy: 0.7381\nEpoch 52/100\n6/6 [==============================] - 0s 54ms/step - loss: 0.7266 - accuracy: 0.6843 - val_loss: 0.6523 - val_accuracy: 0.7143\nEpoch 53/100\n6/6 [==============================] - 0s 60ms/step - loss: 0.7789 - accuracy: 0.6672 - val_loss: 0.6936 - val_accuracy: 0.6667\nEpoch 54/100\n6/6 [==============================] - 0s 57ms/step - loss: 0.7146 - accuracy: 0.6775 - val_loss: 0.6420 - val_accuracy: 0.7381\nEpoch 55/100\n6/6 [==============================] - 0s 59ms/step - loss: 0.7334 - accuracy: 0.6594 - val_loss: 0.7869 - val_accuracy: 0.5476\nEpoch 56/100\n6/6 [==============================] - 0s 57ms/step - loss: 0.7329 - accuracy: 0.6773 - val_loss: 0.6245 - val_accuracy: 0.7619\nEpoch 57/100\n6/6 [==============================] - 0s 55ms/step - loss: 0.6511 - accuracy: 0.7424 - val_loss: 0.8048 - val_accuracy: 0.5000\nEpoch 58/100\n6/6 [==============================] - 0s 58ms/step - loss: 0.7755 - accuracy: 0.5798 - val_loss: 0.6042 - val_accuracy: 0.7381\nEpoch 59/100\n6/6 [==============================] - 0s 58ms/step - loss: 0.8225 - accuracy: 0.5541 - val_loss: 0.6107 - val_accuracy: 0.6905\nEpoch 60/100\n6/6 [==============================] - 0s 58ms/step - loss: 0.7497 - accuracy: 0.6597 - val_loss: 0.6555 - val_accuracy: 0.6905\nEpoch 61/100\n6/6 [==============================] - 1s 126ms/step - loss: 0.6811 - accuracy: 0.6910 - val_loss: 0.6151 - val_accuracy: 0.7619\nEpoch 62/100\n6/6 [==============================] - 0s 58ms/step - loss: 0.6642 - accuracy: 0.6901 - val_loss: 0.6099 - val_accuracy: 0.7381\nEpoch 63/100\n6/6 [==============================] - 0s 65ms/step - loss: 0.6057 - accuracy: 0.7864 - val_loss: 0.6180 - val_accuracy: 0.7143\nEpoch 64/100\n6/6 [==============================] - 0s 57ms/step - loss: 0.6373 - accuracy: 0.7148 - val_loss: 0.6148 - val_accuracy: 0.7143\nEpoch 65/100\n6/6 [==============================] - 0s 53ms/step - loss: 0.6081 - accuracy: 0.7241 - val_loss: 0.5899 - val_accuracy: 0.7381\nEpoch 66/100\n6/6 [==============================] - 0s 57ms/step - loss: 0.6380 - accuracy: 0.6574 - val_loss: 0.6270 - val_accuracy: 0.6905\nEpoch 67/100\n6/6 [==============================] - 0s 54ms/step - loss: 0.6279 - accuracy: 0.6801 - val_loss: 0.5760 - val_accuracy: 0.7143\nEpoch 68/100\n6/6 [==============================] - 0s 73ms/step - loss: 0.6647 - accuracy: 0.7144 - val_loss: 0.5622 - val_accuracy: 0.7143\nEpoch 69/100\n6/6 [==============================] - 0s 71ms/step - loss: 0.6567 - accuracy: 0.7134 - val_loss: 0.6151 - val_accuracy: 0.7143\nEpoch 70/100\n6/6 [==============================] - 0s 74ms/step - loss: 0.6580 - accuracy: 0.7087 - val_loss: 0.5630 - val_accuracy: 0.7857\nEpoch 71/100\n6/6 [==============================] - 0s 57ms/step - loss: 0.6593 - accuracy: 0.7253 - val_loss: 0.6360 - val_accuracy: 0.6905\nEpoch 72/100\n6/6 [==============================] - 0s 53ms/step - loss: 0.6377 - accuracy: 0.7190 - val_loss: 0.5418 - val_accuracy: 0.7857\nEpoch 73/100\n6/6 [==============================] - 0s 53ms/step - loss: 0.6305 - accuracy: 0.7528 - val_loss: 0.6205 - val_accuracy: 0.6905\nEpoch 74/100\n6/6 [==============================] - 0s 58ms/step - loss: 0.6040 - accuracy: 0.7747 - val_loss: 0.5427 - val_accuracy: 0.7381\nEpoch 75/100\n6/6 [==============================] - 0s 51ms/step - loss: 0.6043 - accuracy: 0.7066 - val_loss: 0.5353 - val_accuracy: 0.7381\nEpoch 76/100\n6/6 [==============================] - 0s 52ms/step - loss: 0.6125 - accuracy: 0.7205 - val_loss: 0.5634 - val_accuracy: 0.7143\nEpoch 77/100\n6/6 [==============================] - 0s 52ms/step - loss: 0.5801 - accuracy: 0.7355 - val_loss: 0.5315 - val_accuracy: 0.7143\nEpoch 78/100\n6/6 [==============================] - 0s 67ms/step - loss: 0.6242 - accuracy: 0.6996 - val_loss: 0.5779 - val_accuracy: 0.7143\nEpoch 79/100\n6/6 [==============================] - 0s 54ms/step - loss: 0.5855 - accuracy: 0.7253 - val_loss: 0.6196 - val_accuracy: 0.6667\nEpoch 80/100\n6/6 [==============================] - 0s 55ms/step - loss: 0.6045 - accuracy: 0.7268 - val_loss: 0.5342 - val_accuracy: 0.7381\nEpoch 81/100\n6/6 [==============================] - 0s 59ms/step - loss: 0.5462 - accuracy: 0.7260 - val_loss: 0.5910 - val_accuracy: 0.6905\nEpoch 82/100\n6/6 [==============================] - 0s 51ms/step - loss: 0.5577 - accuracy: 0.7465 - val_loss: 0.5329 - val_accuracy: 0.7381\nEpoch 83/100\n6/6 [==============================] - 0s 54ms/step - loss: 0.5757 - accuracy: 0.7117 - val_loss: 0.5490 - val_accuracy: 0.6667\nEpoch 84/100\n6/6 [==============================] - 0s 57ms/step - loss: 0.5832 - accuracy: 0.7494 - val_loss: 0.5548 - val_accuracy: 0.7143\nEpoch 85/100\n6/6 [==============================] - 0s 57ms/step - loss: 0.5621 - accuracy: 0.7569 - val_loss: 0.5134 - val_accuracy: 0.7619\nEpoch 86/100\n6/6 [==============================] - 0s 57ms/step - loss: 0.5566 - accuracy: 0.7428 - val_loss: 0.6066 - val_accuracy: 0.7143\nEpoch 87/100\n6/6 [==============================] - 0s 54ms/step - loss: 0.5826 - accuracy: 0.7820 - val_loss: 0.5075 - val_accuracy: 0.7619\nEpoch 88/100\n6/6 [==============================] - 0s 55ms/step - loss: 0.5728 - accuracy: 0.7537 - val_loss: 0.5066 - val_accuracy: 0.7619\nEpoch 89/100\n6/6 [==============================] - 0s 56ms/step - loss: 0.5810 - accuracy: 0.7073 - val_loss: 0.5766 - val_accuracy: 0.7143\nEpoch 90/100\n6/6 [==============================] - 0s 68ms/step - loss: 0.5953 - accuracy: 0.7544 - val_loss: 0.5146 - val_accuracy: 0.7381\nEpoch 91/100\n6/6 [==============================] - 0s 74ms/step - loss: 0.5961 - accuracy: 0.7387 - val_loss: 0.5107 - val_accuracy: 0.7857\nEpoch 92/100\n6/6 [==============================] - 0s 64ms/step - loss: 0.6398 - accuracy: 0.7166 - val_loss: 0.5411 - val_accuracy: 0.6667\nEpoch 93/100\n6/6 [==============================] - 0s 61ms/step - loss: 0.5938 - accuracy: 0.7693 - val_loss: 0.6275 - val_accuracy: 0.6905\nEpoch 94/100\n6/6 [==============================] - 0s 53ms/step - loss: 0.6520 - accuracy: 0.6707 - val_loss: 0.5457 - val_accuracy: 0.7857\nEpoch 95/100\n6/6 [==============================] - 0s 57ms/step - loss: 0.6188 - accuracy: 0.7071 - val_loss: 0.5846 - val_accuracy: 0.7143\nEpoch 96/100\n6/6 [==============================] - 0s 56ms/step - loss: 0.5751 - accuracy: 0.7400 - val_loss: 0.5020 - val_accuracy: 0.8095\nEpoch 97/100\n6/6 [==============================] - 0s 55ms/step - loss: 0.5540 - accuracy: 0.7731 - val_loss: 0.5109 - val_accuracy: 0.7381\nEpoch 98/100\n6/6 [==============================] - 0s 56ms/step - loss: 0.5358 - accuracy: 0.7365 - val_loss: 0.5178 - val_accuracy: 0.7143\nEpoch 99/100\n6/6 [==============================] - 0s 57ms/step - loss: 0.5426 - accuracy: 0.7331 - val_loss: 0.5513 - val_accuracy: 0.6905\nEpoch 100/100\n6/6 [==============================] - 0s 55ms/step - loss: 0.5368 - accuracy: 0.6990 - val_loss: 0.4926 - val_accuracy: 0.7619\n",
          "output_type": "stream"
        }
      ]
    },
    {
      "cell_type": "code",
      "source": [
        "model.load_weights('./model.h5')"
      ],
      "metadata": {
        "execution": {
          "iopub.status.busy": "2023-01-05T13:24:15.037950Z",
          "iopub.execute_input": "2023-01-05T13:24:15.038745Z",
          "iopub.status.idle": "2023-01-05T13:24:15.057037Z",
          "shell.execute_reply.started": "2023-01-05T13:24:15.038688Z",
          "shell.execute_reply": "2023-01-05T13:24:15.055668Z"
        },
        "trusted": true,
        "id": "zb7Cco8bISJN"
      },
      "execution_count": null,
      "outputs": []
    },
    {
      "cell_type": "markdown",
      "source": [
        "# Results"
      ],
      "metadata": {
        "id": "FaIxPjKsISJO"
      }
    },
    {
      "cell_type": "code",
      "source": [
        "results = model.evaluate(test_images, verbose=0)\n",
        "\n",
        "print(\"    Loss: {:.4f}\".format(results[0]))\n",
        "print(\"Accuracy: {:.2f}%\".format(results[1] * 100))"
      ],
      "metadata": {
        "execution": {
          "iopub.status.busy": "2023-01-05T13:24:05.662318Z",
          "iopub.execute_input": "2023-01-05T13:24:05.663124Z",
          "iopub.status.idle": "2023-01-05T13:24:06.011699Z",
          "shell.execute_reply.started": "2023-01-05T13:24:05.663070Z",
          "shell.execute_reply": "2023-01-05T13:24:06.010680Z"
        },
        "trusted": true,
        "id": "WfNoJ3YZISJO",
        "outputId": "e4b5d4af-976d-426b-d6af-6fe7edae7ece"
      },
      "execution_count": null,
      "outputs": [
        {
          "name": "stdout",
          "text": "    Loss: 0.5284\nAccuracy: 78.89%\n",
          "output_type": "stream"
        }
      ]
    }
  ]
}