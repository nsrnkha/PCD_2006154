{
  "cells": [
    {
      "cell_type": "markdown",
      "metadata": {
        "id": "view-in-github",
        "colab_type": "text"
      },
      "source": [
        "<a href=\"https://colab.research.google.com/github/nsrnkha/PCD_2006154/blob/main/PCD_Shape_Detection.ipynb\" target=\"_parent\"><img src=\"https://colab.research.google.com/assets/colab-badge.svg\" alt=\"Open In Colab\"/></a>"
      ]
    },
    {
      "cell_type": "markdown",
      "id": "dense-limitation",
      "metadata": {
        "papermill": {
          "duration": 0.011189,
          "end_time": "2021-05-14T02:02:55.545958",
          "exception": false,
          "start_time": "2021-05-14T02:02:55.534769",
          "status": "completed"
        },
        "tags": [],
        "id": "dense-limitation"
      },
      "source": [
        "# Shape Image Classification "
      ]
    },
    {
      "cell_type": "markdown",
      "id": "prepared-average",
      "metadata": {
        "papermill": {
          "duration": 0.009808,
          "end_time": "2021-05-14T02:02:55.565856",
          "exception": false,
          "start_time": "2021-05-14T02:02:55.556048",
          "status": "completed"
        },
        "tags": [],
        "id": "prepared-average"
      },
      "source": [
        "# Importing required Libraries"
      ]
    },
    {
      "cell_type": "code",
      "execution_count": null,
      "id": "laden-ability",
      "metadata": {
        "_cell_guid": "b1076dfc-b9ad-4769-8c92-a6c4dae69d19",
        "_uuid": "8f2839f25d086af736a60e9eeb907d3b93b6e0e5",
        "execution": {
          "iopub.execute_input": "2021-05-14T02:02:55.594632Z",
          "iopub.status.busy": "2021-05-14T02:02:55.593975Z",
          "iopub.status.idle": "2021-05-14T02:03:01.520184Z",
          "shell.execute_reply": "2021-05-14T02:03:01.519033Z"
        },
        "papermill": {
          "duration": 5.944711,
          "end_time": "2021-05-14T02:03:01.520352",
          "exception": false,
          "start_time": "2021-05-14T02:02:55.575641",
          "status": "completed"
        },
        "tags": [],
        "id": "laden-ability"
      },
      "outputs": [],
      "source": [
        "import numpy as np\n",
        "import pandas as pd\n",
        "from pathlib import Path\n",
        "import os.path\n",
        "import tensorflow as tf\n",
        "from sklearn.model_selection import train_test_split\n",
        "import matplotlib.pyplot as plt\n",
        "from tensorflow.keras.layers import Conv2D, Flatten, MaxPooling2D, Dense, Dropout, BatchNormalization, LeakyReLU\n",
        "from tensorflow.keras.models import Sequential\n",
        "from tensorflow.keras.callbacks import EarlyStopping, ReduceLROnPlateau\n",
        "from tensorflow.keras.optimizers import Adam\n",
        "from tensorflow.keras.optimizers.schedules import ExponentialDecay\n",
        "from tensorflow.keras.preprocessing.image import ImageDataGenerator\n",
        "from sklearn.metrics import classification_report\n"
      ]
    },
    {
      "cell_type": "code",
      "execution_count": null,
      "id": "lesbian-latter",
      "metadata": {
        "execution": {
          "iopub.execute_input": "2021-05-14T02:03:01.547589Z",
          "iopub.status.busy": "2021-05-14T02:03:01.545841Z",
          "iopub.status.idle": "2021-05-14T02:03:01.548270Z",
          "shell.execute_reply": "2021-05-14T02:03:01.548679Z"
        },
        "papermill": {
          "duration": 0.01775,
          "end_time": "2021-05-14T02:03:01.548805",
          "exception": false,
          "start_time": "2021-05-14T02:03:01.531055",
          "status": "completed"
        },
        "tags": [],
        "id": "lesbian-latter"
      },
      "outputs": [],
      "source": [
        "image_dir=Path('../input/basicshapes/shapes')"
      ]
    },
    {
      "cell_type": "markdown",
      "id": "decent-luther",
      "metadata": {
        "papermill": {
          "duration": 0.010271,
          "end_time": "2021-05-14T02:03:01.569231",
          "exception": false,
          "start_time": "2021-05-14T02:03:01.558960",
          "status": "completed"
        },
        "tags": [],
        "id": "decent-luther"
      },
      "source": [
        "# Creating File DataFrame"
      ]
    },
    {
      "cell_type": "code",
      "execution_count": null,
      "id": "bored-actor",
      "metadata": {
        "execution": {
          "iopub.execute_input": "2021-05-14T02:03:01.596522Z",
          "iopub.status.busy": "2021-05-14T02:03:01.595887Z",
          "iopub.status.idle": "2021-05-14T02:03:01.938144Z",
          "shell.execute_reply": "2021-05-14T02:03:01.937673Z"
        },
        "papermill": {
          "duration": 0.358766,
          "end_time": "2021-05-14T02:03:01.938313",
          "exception": false,
          "start_time": "2021-05-14T02:03:01.579547",
          "status": "completed"
        },
        "tags": [],
        "id": "bored-actor"
      },
      "outputs": [],
      "source": [
        "file_path=list(image_dir.glob(r'**/*.png'))\n",
        "labels = list(map(lambda x: os.path.split(os.path.split(x)[0])[1], file_path))\n",
        "file_path=pd.Series(file_path,name='Filepath').astype(str)\n",
        "labels = pd.Series(labels, name='Label')\n",
        "image_df = pd.concat([file_path, labels], axis=1)\n",
        "train_df, test_df = train_test_split(image_df, train_size=0.7, shuffle=True, random_state=1)"
      ]
    },
    {
      "cell_type": "code",
      "execution_count": null,
      "id": "amino-renewal",
      "metadata": {
        "execution": {
          "iopub.execute_input": "2021-05-14T02:03:01.968983Z",
          "iopub.status.busy": "2021-05-14T02:03:01.968204Z",
          "iopub.status.idle": "2021-05-14T02:03:01.971733Z",
          "shell.execute_reply": "2021-05-14T02:03:01.972191Z"
        },
        "papermill": {
          "duration": 0.021772,
          "end_time": "2021-05-14T02:03:01.972355",
          "exception": false,
          "start_time": "2021-05-14T02:03:01.950583",
          "status": "completed"
        },
        "tags": [],
        "id": "amino-renewal",
        "outputId": "50067341-0b26-4e2e-dcbd-25c7a89bee63"
      },
      "outputs": [
        {
          "data": {
            "text/plain": [
              "(420, 2)"
            ]
          },
          "execution_count": 4,
          "metadata": {},
          "output_type": "execute_result"
        }
      ],
      "source": [
        "train_df.shape"
      ]
    },
    {
      "cell_type": "code",
      "execution_count": null,
      "id": "written-reliance",
      "metadata": {
        "execution": {
          "iopub.execute_input": "2021-05-14T02:03:01.999379Z",
          "iopub.status.busy": "2021-05-14T02:03:01.998572Z",
          "iopub.status.idle": "2021-05-14T02:03:02.002542Z",
          "shell.execute_reply": "2021-05-14T02:03:02.002101Z"
        },
        "papermill": {
          "duration": 0.019096,
          "end_time": "2021-05-14T02:03:02.002660",
          "exception": false,
          "start_time": "2021-05-14T02:03:01.983564",
          "status": "completed"
        },
        "tags": [],
        "id": "written-reliance",
        "outputId": "7400eb84-5fa3-4fdd-af2b-c74ce62fafc0"
      },
      "outputs": [
        {
          "data": {
            "text/plain": [
              "(180, 2)"
            ]
          },
          "execution_count": 5,
          "metadata": {},
          "output_type": "execute_result"
        }
      ],
      "source": [
        "test_df.shape"
      ]
    },
    {
      "cell_type": "code",
      "execution_count": null,
      "id": "pleasant-treatment",
      "metadata": {
        "execution": {
          "iopub.execute_input": "2021-05-14T02:03:02.031656Z",
          "iopub.status.busy": "2021-05-14T02:03:02.030796Z",
          "iopub.status.idle": "2021-05-14T02:03:02.033779Z",
          "shell.execute_reply": "2021-05-14T02:03:02.033337Z"
        },
        "papermill": {
          "duration": 0.019482,
          "end_time": "2021-05-14T02:03:02.033900",
          "exception": false,
          "start_time": "2021-05-14T02:03:02.014418",
          "status": "completed"
        },
        "tags": [],
        "id": "pleasant-treatment"
      },
      "outputs": [],
      "source": [
        "train_generator = tf.keras.preprocessing.image.ImageDataGenerator(\n",
        "    rescale=1./255,\n",
        "    validation_split=0.2\n",
        ")\n",
        "\n",
        "test_generator = tf.keras.preprocessing.image.ImageDataGenerator(\n",
        "    rescale=1./255\n",
        ")"
      ]
    },
    {
      "cell_type": "code",
      "execution_count": null,
      "id": "liable-induction",
      "metadata": {
        "execution": {
          "iopub.execute_input": "2021-05-14T02:03:02.068240Z",
          "iopub.status.busy": "2021-05-14T02:03:02.067412Z",
          "iopub.status.idle": "2021-05-14T02:03:02.092875Z",
          "shell.execute_reply": "2021-05-14T02:03:02.092330Z"
        },
        "papermill": {
          "duration": 0.047366,
          "end_time": "2021-05-14T02:03:02.093014",
          "exception": false,
          "start_time": "2021-05-14T02:03:02.045648",
          "status": "completed"
        },
        "tags": [],
        "id": "liable-induction",
        "outputId": "ebadd150-13aa-43e0-b5d6-15b616120253"
      },
      "outputs": [
        {
          "name": "stdout",
          "output_type": "stream",
          "text": [
            "Found 336 validated image filenames belonging to 3 classes.\n"
          ]
        }
      ],
      "source": [
        "train_images = train_generator.flow_from_dataframe(\n",
        "    dataframe=train_df,\n",
        "    x_col='Filepath',\n",
        "    y_col='Label',\n",
        "    target_size=(28, 28),\n",
        "    color_mode='grayscale',\n",
        "    class_mode='categorical',\n",
        "    batch_size=32,\n",
        "    shuffle=True,\n",
        "    seed=42,\n",
        "    subset='training'\n",
        ")"
      ]
    },
    {
      "cell_type": "code",
      "execution_count": null,
      "id": "exact-tactics",
      "metadata": {
        "execution": {
          "iopub.execute_input": "2021-05-14T02:03:02.127556Z",
          "iopub.status.busy": "2021-05-14T02:03:02.126748Z",
          "iopub.status.idle": "2021-05-14T02:03:02.142129Z",
          "shell.execute_reply": "2021-05-14T02:03:02.142558Z"
        },
        "papermill": {
          "duration": 0.036114,
          "end_time": "2021-05-14T02:03:02.142702",
          "exception": false,
          "start_time": "2021-05-14T02:03:02.106588",
          "status": "completed"
        },
        "tags": [],
        "id": "exact-tactics",
        "outputId": "579f6f86-0c94-48ca-cd88-81984f9f0bd9"
      },
      "outputs": [
        {
          "name": "stdout",
          "output_type": "stream",
          "text": [
            "Found 84 validated image filenames belonging to 3 classes.\n",
            "Found 180 validated image filenames belonging to 3 classes.\n"
          ]
        }
      ],
      "source": [
        "val_images = train_generator.flow_from_dataframe(\n",
        "    dataframe=train_df,\n",
        "    x_col='Filepath',\n",
        "    y_col='Label',\n",
        "    target_size=(28, 28),\n",
        "    color_mode='grayscale',\n",
        "    class_mode='categorical',\n",
        "    batch_size=32,\n",
        "    shuffle=True,\n",
        "    seed=42,\n",
        "    subset='validation'\n",
        ")\n",
        "\n",
        "test_images = test_generator.flow_from_dataframe(\n",
        "    dataframe=test_df,\n",
        "    x_col='Filepath',\n",
        "    y_col='Label',\n",
        "    target_size=(28, 28),\n",
        "    color_mode='grayscale',\n",
        "    class_mode='categorical',\n",
        "    batch_size=32,\n",
        "    shuffle=False\n",
        ")\n"
      ]
    },
    {
      "cell_type": "code",
      "execution_count": null,
      "id": "binary-steel",
      "metadata": {
        "execution": {
          "iopub.execute_input": "2021-05-14T02:03:02.186902Z",
          "iopub.status.busy": "2021-05-14T02:03:02.186029Z",
          "iopub.status.idle": "2021-05-14T02:03:04.300043Z",
          "shell.execute_reply": "2021-05-14T02:03:04.299010Z"
        },
        "papermill": {
          "duration": 2.14541,
          "end_time": "2021-05-14T02:03:04.300176",
          "exception": false,
          "start_time": "2021-05-14T02:03:02.154766",
          "status": "completed"
        },
        "tags": [],
        "id": "binary-steel",
        "outputId": "b6eff10c-f543-4090-b0f5-2bfc2646568b"
      },
      "outputs": [
        {
          "data": {
            "image/png": "[encoded data removed]",
            "text/plain": [
              "<Figure size 1152x1152 with 16 Axes>"
            ]
          },
          "metadata": {
            "needs_background": "light"
          },
          "output_type": "display_data"
        }
      ],
      "source": [
        "fig, ax = plt.subplots(4,4,figsize=(16,16))\n",
        "for i in range(16):\n",
        "    ind = np.random.randint(32)\n",
        "    image = train_images[0][0][ind]\n",
        "    ax[i//4][i%4].imshow(image, cmap='gray')\n",
        "    "
      ]
    },
    {
      "cell_type": "code",
      "execution_count": null,
      "id": "graphic-abortion",
      "metadata": {
        "execution": {
          "iopub.execute_input": "2021-05-14T02:03:04.333075Z",
          "iopub.status.busy": "2021-05-14T02:03:04.332559Z",
          "iopub.status.idle": "2021-05-14T02:03:07.044130Z",
          "shell.execute_reply": "2021-05-14T02:03:07.043611Z"
        },
        "papermill": {
          "duration": 2.730834,
          "end_time": "2021-05-14T02:03:07.044266",
          "exception": false,
          "start_time": "2021-05-14T02:03:04.313432",
          "status": "completed"
        },
        "tags": [],
        "id": "graphic-abortion"
      },
      "outputs": [],
      "source": [
        "model = Sequential([\n",
        "    Conv2D(16,(3,3), input_shape=(28,28,1)),\n",
        "    LeakyReLU(),\n",
        "    MaxPooling2D((2,2)),\n",
        "    Conv2D(32, (3,3)),\n",
        "    LeakyReLU(),\n",
        "    MaxPooling2D((2,2)),\n",
        "    Dropout(0.5),\n",
        "    Flatten(),\n",
        "    Dense(512),\n",
        "    Dropout(0.5),\n",
        "    LeakyReLU(),\n",
        "    Dense(256),\n",
        "    LeakyReLU(),\n",
        "    Dropout(0.5),\n",
        "    Dense(3, activation = 'softmax')\n",
        "])"
      ]
    },
    {
      "cell_type": "code",
      "execution_count": null,
      "id": "adaptive-taylor",
      "metadata": {
        "execution": {
          "iopub.execute_input": "2021-05-14T02:03:07.084545Z",
          "iopub.status.busy": "2021-05-14T02:03:07.083833Z",
          "iopub.status.idle": "2021-05-14T02:03:07.089432Z",
          "shell.execute_reply": "2021-05-14T02:03:07.085029Z"
        },
        "papermill": {
          "duration": 0.031784,
          "end_time": "2021-05-14T02:03:07.089566",
          "exception": false,
          "start_time": "2021-05-14T02:03:07.057782",
          "status": "completed"
        },
        "tags": [],
        "id": "adaptive-taylor",
        "outputId": "fa40f7fb-e8a0-49c8-9ab6-230703692ba1"
      },
      "outputs": [
        {
          "name": "stdout",
          "output_type": "stream",
          "text": [
            "Model: \"sequential\"\n",
            "_________________________________________________________________\n",
            "Layer (type)                 Output Shape              Param #   \n",
            "=================================================================\n",
            "conv2d (Conv2D)              (None, 26, 26, 16)        160       \n",
            "_________________________________________________________________\n",
            "leaky_re_lu (LeakyReLU)      (None, 26, 26, 16)        0         \n",
            "_________________________________________________________________\n",
            "max_pooling2d (MaxPooling2D) (None, 13, 13, 16)        0         \n",
            "_________________________________________________________________\n",
            "conv2d_1 (Conv2D)            (None, 11, 11, 32)        4640      \n",
            "_________________________________________________________________\n",
            "leaky_re_lu_1 (LeakyReLU)    (None, 11, 11, 32)        0         \n",
            "_________________________________________________________________\n",
            "max_pooling2d_1 (MaxPooling2 (None, 5, 5, 32)          0         \n",
            "_________________________________________________________________\n",
            "dropout (Dropout)            (None, 5, 5, 32)          0         \n",
            "_________________________________________________________________\n",
            "flatten (Flatten)            (None, 800)               0         \n",
            "_________________________________________________________________\n",
            "dense (Dense)                (None, 512)               410112    \n",
            "_________________________________________________________________\n",
            "dropout_1 (Dropout)          (None, 512)               0         \n",
            "_________________________________________________________________\n",
            "leaky_re_lu_2 (LeakyReLU)    (None, 512)               0         \n",
            "_________________________________________________________________\n",
            "dense_1 (Dense)              (None, 256)               131328    \n",
            "_________________________________________________________________\n",
            "leaky_re_lu_3 (LeakyReLU)    (None, 256)               0         \n",
            "_________________________________________________________________\n",
            "dropout_2 (Dropout)          (None, 256)               0         \n",
            "_________________________________________________________________\n",
            "dense_2 (Dense)              (None, 3)                 771       \n",
            "=================================================================\n",
            "Total params: 547,011\n",
            "Trainable params: 547,011\n",
            "Non-trainable params: 0\n",
            "_________________________________________________________________\n"
          ]
        }
      ],
      "source": [
        "model.summary()"
      ]
    },
    {
      "cell_type": "code",
      "execution_count": null,
      "id": "aware-majority",
      "metadata": {
        "execution": {
          "iopub.execute_input": "2021-05-14T02:03:07.123548Z",
          "iopub.status.busy": "2021-05-14T02:03:07.122659Z",
          "iopub.status.idle": "2021-05-14T02:03:46.599736Z",
          "shell.execute_reply": "2021-05-14T02:03:46.600221Z"
        },
        "papermill": {
          "duration": 39.496939,
          "end_time": "2021-05-14T02:03:46.600437",
          "exception": false,
          "start_time": "2021-05-14T02:03:07.103498",
          "status": "completed"
        },
        "tags": [],
        "id": "aware-majority",
        "outputId": "6256d0d8-7ff8-46a8-cca8-93d757f3ecb6"
      },
      "outputs": [
        {
          "name": "stdout",
          "output_type": "stream",
          "text": [
            "Epoch 1/100\n",
            "11/11 [==============================] - 6s 248ms/step - loss: 1.1129 - accuracy: 0.3460 - val_loss: 1.0883 - val_accuracy: 0.2857\n",
            "Epoch 2/100\n",
            "11/11 [==============================] - 0s 27ms/step - loss: 1.0986 - accuracy: 0.3448 - val_loss: 1.0633 - val_accuracy: 0.4643\n",
            "Epoch 3/100\n",
            "11/11 [==============================] - 0s 28ms/step - loss: 1.0906 - accuracy: 0.3583 - val_loss: 1.0365 - val_accuracy: 0.5476\n",
            "Epoch 4/100\n",
            "11/11 [==============================] - 0s 28ms/step - loss: 1.0416 - accuracy: 0.4661 - val_loss: 0.9356 - val_accuracy: 0.7500\n",
            "Epoch 5/100\n",
            "11/11 [==============================] - 0s 28ms/step - loss: 0.9218 - accuracy: 0.6579 - val_loss: 0.7763 - val_accuracy: 0.7143\n",
            "Epoch 6/100\n",
            "11/11 [==============================] - 0s 28ms/step - loss: 0.7685 - accuracy: 0.6779 - val_loss: 0.7890 - val_accuracy: 0.6310\n",
            "Epoch 7/100\n",
            "11/11 [==============================] - 0s 27ms/step - loss: 0.8319 - accuracy: 0.6109 - val_loss: 0.6024 - val_accuracy: 0.7976\n",
            "Epoch 8/100\n",
            "11/11 [==============================] - 0s 28ms/step - loss: 0.5920 - accuracy: 0.7818 - val_loss: 0.5265 - val_accuracy: 0.7857\n",
            "Epoch 9/100\n",
            "11/11 [==============================] - 0s 27ms/step - loss: 0.4891 - accuracy: 0.7895 - val_loss: 0.4520 - val_accuracy: 0.7857\n",
            "Epoch 10/100\n",
            "11/11 [==============================] - 0s 28ms/step - loss: 0.4526 - accuracy: 0.8150 - val_loss: 0.4964 - val_accuracy: 0.7738\n",
            "Epoch 11/100\n",
            "11/11 [==============================] - 0s 29ms/step - loss: 0.3949 - accuracy: 0.8507 - val_loss: 0.3984 - val_accuracy: 0.8333\n",
            "Epoch 12/100\n",
            "11/11 [==============================] - 0s 29ms/step - loss: 0.3379 - accuracy: 0.8663 - val_loss: 0.3628 - val_accuracy: 0.8571\n",
            "Epoch 13/100\n",
            "11/11 [==============================] - 0s 28ms/step - loss: 0.2868 - accuracy: 0.8857 - val_loss: 0.3377 - val_accuracy: 0.8929\n",
            "Epoch 14/100\n",
            "11/11 [==============================] - 0s 34ms/step - loss: 0.2313 - accuracy: 0.9254 - val_loss: 0.2906 - val_accuracy: 0.9048\n",
            "Epoch 15/100\n",
            "11/11 [==============================] - 0s 34ms/step - loss: 0.2196 - accuracy: 0.9262 - val_loss: 0.2996 - val_accuracy: 0.8810\n",
            "Epoch 16/100\n",
            "11/11 [==============================] - 0s 29ms/step - loss: 0.1938 - accuracy: 0.9415 - val_loss: 0.3466 - val_accuracy: 0.8571\n",
            "Epoch 17/100\n",
            "11/11 [==============================] - 0s 28ms/step - loss: 0.2411 - accuracy: 0.9201 - val_loss: 0.2430 - val_accuracy: 0.9048\n",
            "Epoch 18/100\n",
            "11/11 [==============================] - 0s 29ms/step - loss: 0.1694 - accuracy: 0.9451 - val_loss: 0.2254 - val_accuracy: 0.9524\n",
            "Epoch 19/100\n",
            "11/11 [==============================] - 0s 28ms/step - loss: 0.1198 - accuracy: 0.9463 - val_loss: 0.2379 - val_accuracy: 0.9524\n",
            "Epoch 20/100\n",
            "11/11 [==============================] - 0s 28ms/step - loss: 0.0747 - accuracy: 0.9918 - val_loss: 0.2262 - val_accuracy: 0.9405\n",
            "Epoch 21/100\n",
            "11/11 [==============================] - 0s 28ms/step - loss: 0.0962 - accuracy: 0.9716 - val_loss: 0.2513 - val_accuracy: 0.9167\n",
            "Epoch 22/100\n",
            "11/11 [==============================] - 0s 28ms/step - loss: 0.1129 - accuracy: 0.9474 - val_loss: 0.2111 - val_accuracy: 0.9405\n",
            "Epoch 23/100\n",
            "11/11 [==============================] - 0s 29ms/step - loss: 0.1004 - accuracy: 0.9634 - val_loss: 0.2103 - val_accuracy: 0.9524\n",
            "Epoch 24/100\n",
            "11/11 [==============================] - 0s 29ms/step - loss: 0.1045 - accuracy: 0.9601 - val_loss: 0.2061 - val_accuracy: 0.9524\n",
            "Epoch 25/100\n",
            "11/11 [==============================] - 0s 29ms/step - loss: 0.0606 - accuracy: 0.9842 - val_loss: 0.2078 - val_accuracy: 0.9524\n",
            "Epoch 26/100\n",
            "11/11 [==============================] - 0s 28ms/step - loss: 0.0800 - accuracy: 0.9610 - val_loss: 0.2430 - val_accuracy: 0.9167\n",
            "Epoch 27/100\n",
            "11/11 [==============================] - 0s 39ms/step - loss: 0.0869 - accuracy: 0.9622 - val_loss: 0.2007 - val_accuracy: 0.9286\n",
            "Epoch 28/100\n",
            "11/11 [==============================] - 0s 33ms/step - loss: 0.1050 - accuracy: 0.9724 - val_loss: 0.2710 - val_accuracy: 0.9048\n",
            "Epoch 29/100\n",
            "11/11 [==============================] - 0s 29ms/step - loss: 0.0489 - accuracy: 0.9820 - val_loss: 0.2456 - val_accuracy: 0.9286\n",
            "Epoch 30/100\n",
            "11/11 [==============================] - 0s 29ms/step - loss: 0.0708 - accuracy: 0.9788 - val_loss: 0.2233 - val_accuracy: 0.9286\n",
            "Epoch 31/100\n",
            "11/11 [==============================] - 0s 28ms/step - loss: 0.0857 - accuracy: 0.9664 - val_loss: 0.2142 - val_accuracy: 0.9524\n",
            "Epoch 32/100\n",
            "11/11 [==============================] - 0s 28ms/step - loss: 0.0499 - accuracy: 0.9898 - val_loss: 0.2072 - val_accuracy: 0.9524\n",
            "Epoch 33/100\n",
            "11/11 [==============================] - 0s 28ms/step - loss: 0.0401 - accuracy: 0.9800 - val_loss: 0.1968 - val_accuracy: 0.9524\n",
            "Epoch 34/100\n",
            "11/11 [==============================] - 0s 29ms/step - loss: 0.0315 - accuracy: 0.9911 - val_loss: 0.1831 - val_accuracy: 0.9524\n",
            "Epoch 35/100\n",
            "11/11 [==============================] - 0s 28ms/step - loss: 0.0373 - accuracy: 0.9838 - val_loss: 0.1797 - val_accuracy: 0.9643\n",
            "Epoch 36/100\n",
            "11/11 [==============================] - 0s 29ms/step - loss: 0.1004 - accuracy: 0.9773 - val_loss: 0.2083 - val_accuracy: 0.9286\n",
            "Epoch 37/100\n",
            "11/11 [==============================] - 0s 28ms/step - loss: 0.0447 - accuracy: 0.9931 - val_loss: 0.1872 - val_accuracy: 0.9643\n",
            "Epoch 38/100\n",
            "11/11 [==============================] - 0s 29ms/step - loss: 0.0228 - accuracy: 0.9895 - val_loss: 0.1911 - val_accuracy: 0.9643\n",
            "Epoch 39/100\n",
            "11/11 [==============================] - 0s 30ms/step - loss: 0.0403 - accuracy: 0.9874 - val_loss: 0.2210 - val_accuracy: 0.9286\n",
            "Epoch 40/100\n",
            "11/11 [==============================] - 0s 28ms/step - loss: 0.0397 - accuracy: 0.9881 - val_loss: 0.1996 - val_accuracy: 0.9643\n",
            "Epoch 41/100\n",
            "11/11 [==============================] - 0s 27ms/step - loss: 0.0187 - accuracy: 0.9944 - val_loss: 0.1959 - val_accuracy: 0.9643\n",
            "Epoch 42/100\n",
            "11/11 [==============================] - 0s 28ms/step - loss: 0.0186 - accuracy: 0.9972 - val_loss: 0.2219 - val_accuracy: 0.9524\n",
            "Epoch 43/100\n",
            "11/11 [==============================] - 0s 29ms/step - loss: 0.0498 - accuracy: 0.9827 - val_loss: 0.2477 - val_accuracy: 0.9286\n",
            "Epoch 44/100\n",
            "11/11 [==============================] - 0s 28ms/step - loss: 0.0952 - accuracy: 0.9603 - val_loss: 0.1858 - val_accuracy: 0.9524\n",
            "Epoch 45/100\n",
            "11/11 [==============================] - 0s 28ms/step - loss: 0.0451 - accuracy: 0.9842 - val_loss: 0.1845 - val_accuracy: 0.9524\n",
            "Epoch 46/100\n",
            "11/11 [==============================] - 0s 27ms/step - loss: 0.0284 - accuracy: 0.9942 - val_loss: 0.2150 - val_accuracy: 0.9167\n",
            "Epoch 47/100\n",
            "11/11 [==============================] - 0s 27ms/step - loss: 0.0134 - accuracy: 0.9944 - val_loss: 0.2201 - val_accuracy: 0.9405\n",
            "Epoch 48/100\n",
            "11/11 [==============================] - 0s 29ms/step - loss: 0.0235 - accuracy: 0.9969 - val_loss: 0.2726 - val_accuracy: 0.9286\n",
            "Epoch 49/100\n",
            "11/11 [==============================] - 0s 28ms/step - loss: 0.0619 - accuracy: 0.9701 - val_loss: 0.2069 - val_accuracy: 0.9524\n",
            "Epoch 50/100\n",
            "11/11 [==============================] - 0s 27ms/step - loss: 0.0390 - accuracy: 0.9885 - val_loss: 0.2550 - val_accuracy: 0.9286\n",
            "Epoch 51/100\n",
            "11/11 [==============================] - 0s 28ms/step - loss: 0.0113 - accuracy: 0.9984 - val_loss: 0.2753 - val_accuracy: 0.9286\n",
            "Epoch 52/100\n",
            "11/11 [==============================] - 0s 28ms/step - loss: 0.0231 - accuracy: 0.9845 - val_loss: 0.2495 - val_accuracy: 0.9286\n",
            "Epoch 53/100\n",
            "11/11 [==============================] - 0s 28ms/step - loss: 0.0244 - accuracy: 0.9911 - val_loss: 0.2536 - val_accuracy: 0.9286\n",
            "Epoch 54/100\n",
            "11/11 [==============================] - 0s 28ms/step - loss: 0.0234 - accuracy: 0.9945 - val_loss: 0.2185 - val_accuracy: 0.9524\n",
            "Epoch 55/100\n",
            "11/11 [==============================] - 0s 28ms/step - loss: 0.0217 - accuracy: 0.9955 - val_loss: 0.2270 - val_accuracy: 0.9524\n",
            "Epoch 56/100\n",
            "11/11 [==============================] - 0s 28ms/step - loss: 0.0183 - accuracy: 0.9893 - val_loss: 0.2176 - val_accuracy: 0.9524\n",
            "Epoch 57/100\n",
            "11/11 [==============================] - 0s 37ms/step - loss: 0.0115 - accuracy: 1.0000 - val_loss: 0.2505 - val_accuracy: 0.9524\n",
            "Epoch 58/100\n",
            "11/11 [==============================] - 0s 38ms/step - loss: 0.0156 - accuracy: 0.9987 - val_loss: 0.2469 - val_accuracy: 0.9405\n",
            "Epoch 59/100\n",
            "11/11 [==============================] - 1s 47ms/step - loss: 0.0196 - accuracy: 0.9942 - val_loss: 0.2565 - val_accuracy: 0.9524\n",
            "Epoch 60/100\n",
            "11/11 [==============================] - 0s 30ms/step - loss: 0.0401 - accuracy: 0.9768 - val_loss: 0.2431 - val_accuracy: 0.9524\n",
            "Epoch 61/100\n",
            "11/11 [==============================] - 0s 28ms/step - loss: 0.0350 - accuracy: 0.9892 - val_loss: 0.2284 - val_accuracy: 0.9643\n",
            "Epoch 62/100\n",
            "11/11 [==============================] - 0s 28ms/step - loss: 0.0203 - accuracy: 0.9945 - val_loss: 0.2538 - val_accuracy: 0.9643\n",
            "Epoch 63/100\n",
            "11/11 [==============================] - 0s 27ms/step - loss: 0.0313 - accuracy: 0.9868 - val_loss: 0.2299 - val_accuracy: 0.9524\n",
            "Epoch 64/100\n",
            "11/11 [==============================] - 0s 28ms/step - loss: 0.0269 - accuracy: 0.9924 - val_loss: 0.2513 - val_accuracy: 0.9524\n",
            "Epoch 65/100\n",
            "11/11 [==============================] - 0s 28ms/step - loss: 0.0168 - accuracy: 0.9977 - val_loss: 0.2661 - val_accuracy: 0.9524\n",
            "Epoch 66/100\n",
            "11/11 [==============================] - 0s 27ms/step - loss: 0.0544 - accuracy: 0.9904 - val_loss: 0.2426 - val_accuracy: 0.9286\n",
            "Epoch 67/100\n",
            "11/11 [==============================] - 0s 28ms/step - loss: 0.0541 - accuracy: 0.9832 - val_loss: 0.2568 - val_accuracy: 0.9167\n",
            "Epoch 68/100\n",
            "11/11 [==============================] - 0s 29ms/step - loss: 0.0562 - accuracy: 0.9781 - val_loss: 0.2082 - val_accuracy: 0.9643\n",
            "Epoch 69/100\n",
            "11/11 [==============================] - 0s 29ms/step - loss: 0.0072 - accuracy: 0.9966 - val_loss: 0.2093 - val_accuracy: 0.9286\n",
            "Epoch 70/100\n",
            "11/11 [==============================] - 0s 28ms/step - loss: 0.0118 - accuracy: 0.9960 - val_loss: 0.2119 - val_accuracy: 0.9524\n",
            "Epoch 71/100\n",
            "11/11 [==============================] - 0s 28ms/step - loss: 0.0095 - accuracy: 0.9992 - val_loss: 0.2119 - val_accuracy: 0.9524\n",
            "Epoch 72/100\n",
            "11/11 [==============================] - 0s 33ms/step - loss: 0.0030 - accuracy: 1.0000 - val_loss: 0.1960 - val_accuracy: 0.9643\n",
            "Epoch 73/100\n",
            "11/11 [==============================] - 0s 27ms/step - loss: 0.0162 - accuracy: 0.9947 - val_loss: 0.2025 - val_accuracy: 0.9524\n",
            "Epoch 74/100\n",
            "11/11 [==============================] - 0s 26ms/step - loss: 0.0182 - accuracy: 0.9923 - val_loss: 0.1993 - val_accuracy: 0.9524\n",
            "Epoch 75/100\n",
            "11/11 [==============================] - 0s 27ms/step - loss: 0.0120 - accuracy: 0.9966 - val_loss: 0.2779 - val_accuracy: 0.9405\n",
            "Epoch 76/100\n",
            "11/11 [==============================] - 0s 28ms/step - loss: 0.0209 - accuracy: 0.9884 - val_loss: 0.3236 - val_accuracy: 0.9286\n",
            "Epoch 77/100\n",
            "11/11 [==============================] - 0s 28ms/step - loss: 0.0648 - accuracy: 0.9888 - val_loss: 0.2522 - val_accuracy: 0.9405\n",
            "Epoch 78/100\n",
            "11/11 [==============================] - 0s 28ms/step - loss: 0.0183 - accuracy: 0.9930 - val_loss: 0.2550 - val_accuracy: 0.9405\n",
            "Epoch 79/100\n",
            "11/11 [==============================] - 0s 28ms/step - loss: 0.0113 - accuracy: 0.9965 - val_loss: 0.2408 - val_accuracy: 0.9524\n",
            "Epoch 80/100\n",
            "11/11 [==============================] - 0s 28ms/step - loss: 0.0056 - accuracy: 1.0000 - val_loss: 0.2893 - val_accuracy: 0.9286\n",
            "Epoch 81/100\n",
            "11/11 [==============================] - 0s 28ms/step - loss: 0.0091 - accuracy: 1.0000 - val_loss: 0.2424 - val_accuracy: 0.9405\n",
            "Epoch 82/100\n",
            "11/11 [==============================] - 0s 29ms/step - loss: 0.0063 - accuracy: 0.9986 - val_loss: 0.2911 - val_accuracy: 0.9286\n",
            "Epoch 83/100\n",
            "11/11 [==============================] - 0s 28ms/step - loss: 0.0028 - accuracy: 1.0000 - val_loss: 0.3263 - val_accuracy: 0.9286\n",
            "Epoch 84/100\n",
            "11/11 [==============================] - 0s 29ms/step - loss: 0.0046 - accuracy: 1.0000 - val_loss: 0.2699 - val_accuracy: 0.9405\n",
            "Epoch 85/100\n",
            "11/11 [==============================] - 0s 27ms/step - loss: 0.0028 - accuracy: 0.9989 - val_loss: 0.2402 - val_accuracy: 0.9643\n",
            "Epoch 86/100\n",
            "11/11 [==============================] - 0s 28ms/step - loss: 0.0157 - accuracy: 0.9941 - val_loss: 0.2481 - val_accuracy: 0.9405\n",
            "Epoch 87/100\n",
            "11/11 [==============================] - 0s 28ms/step - loss: 0.0056 - accuracy: 0.9986 - val_loss: 0.2754 - val_accuracy: 0.9405\n",
            "Epoch 88/100\n",
            "11/11 [==============================] - 0s 28ms/step - loss: 0.0190 - accuracy: 0.9876 - val_loss: 0.2871 - val_accuracy: 0.9405\n",
            "Epoch 89/100\n",
            "11/11 [==============================] - 0s 28ms/step - loss: 0.0081 - accuracy: 0.9972 - val_loss: 0.2943 - val_accuracy: 0.9286\n",
            "Epoch 90/100\n",
            "11/11 [==============================] - 0s 28ms/step - loss: 0.0084 - accuracy: 1.0000 - val_loss: 0.2573 - val_accuracy: 0.9286\n",
            "Epoch 91/100\n",
            "11/11 [==============================] - 0s 27ms/step - loss: 0.0150 - accuracy: 0.9918 - val_loss: 0.2920 - val_accuracy: 0.9286\n",
            "Epoch 92/100\n",
            "11/11 [==============================] - 0s 33ms/step - loss: 0.0118 - accuracy: 0.9967 - val_loss: 0.2720 - val_accuracy: 0.9405\n",
            "Epoch 93/100\n",
            "11/11 [==============================] - 0s 36ms/step - loss: 0.0268 - accuracy: 0.9896 - val_loss: 0.2414 - val_accuracy: 0.9524\n",
            "Epoch 94/100\n",
            "11/11 [==============================] - 0s 27ms/step - loss: 0.0039 - accuracy: 1.0000 - val_loss: 0.2881 - val_accuracy: 0.9524\n",
            "Epoch 95/100\n",
            "11/11 [==============================] - 0s 28ms/step - loss: 0.0073 - accuracy: 0.9977 - val_loss: 0.3377 - val_accuracy: 0.9286\n",
            "Epoch 96/100\n",
            "11/11 [==============================] - 0s 28ms/step - loss: 0.0162 - accuracy: 0.9967 - val_loss: 0.2772 - val_accuracy: 0.9524\n",
            "Epoch 97/100\n",
            "11/11 [==============================] - 0s 29ms/step - loss: 0.0239 - accuracy: 0.9910 - val_loss: 0.2888 - val_accuracy: 0.9286\n",
            "Epoch 98/100\n",
            "11/11 [==============================] - 0s 28ms/step - loss: 0.0238 - accuracy: 0.9885 - val_loss: 0.3311 - val_accuracy: 0.9286\n",
            "Epoch 99/100\n",
            "11/11 [==============================] - 0s 29ms/step - loss: 0.0039 - accuracy: 0.9989 - val_loss: 0.3436 - val_accuracy: 0.9643\n",
            "Epoch 100/100\n",
            "11/11 [==============================] - 0s 29ms/step - loss: 0.0108 - accuracy: 0.9973 - val_loss: 0.3089 - val_accuracy: 0.9286\n"
          ]
        }
      ],
      "source": [
        "\n",
        "# model = tf.keras.Model(inputs=model, outputs=outputs)\n",
        "\n",
        "model.compile(\n",
        "    optimizer='adam',\n",
        "    loss='categorical_crossentropy',\n",
        "    metrics=['accuracy']\n",
        ")\n",
        "\n",
        "history = model.fit(\n",
        "    train_images,\n",
        "    validation_data=val_images,\n",
        "    epochs=100,\n",
        "    callbacks=[\n",
        "        tf.keras.callbacks.ModelCheckpoint('./model.h5', save_best_only=True, save_weights_only=True)\n",
        "    ]\n",
        ")"
      ]
    },
    {
      "cell_type": "code",
      "execution_count": null,
      "id": "photographic-marker",
      "metadata": {
        "execution": {
          "iopub.execute_input": "2021-05-14T02:03:46.944307Z",
          "iopub.status.busy": "2021-05-14T02:03:46.943387Z",
          "iopub.status.idle": "2021-05-14T02:03:46.950598Z",
          "shell.execute_reply": "2021-05-14T02:03:46.950131Z"
        },
        "papermill": {
          "duration": 0.186119,
          "end_time": "2021-05-14T02:03:46.950725",
          "exception": false,
          "start_time": "2021-05-14T02:03:46.764606",
          "status": "completed"
        },
        "tags": [],
        "id": "photographic-marker"
      },
      "outputs": [],
      "source": [
        "model.load_weights('./model.h5')"
      ]
    },
    {
      "cell_type": "code",
      "execution_count": null,
      "id": "powerful-marriage",
      "metadata": {
        "execution": {
          "iopub.execute_input": "2021-05-14T02:03:47.285013Z",
          "iopub.status.busy": "2021-05-14T02:03:47.284438Z",
          "iopub.status.idle": "2021-05-14T02:03:48.435541Z",
          "shell.execute_reply": "2021-05-14T02:03:48.434478Z"
        },
        "papermill": {
          "duration": 1.319014,
          "end_time": "2021-05-14T02:03:48.435683",
          "exception": false,
          "start_time": "2021-05-14T02:03:47.116669",
          "status": "completed"
        },
        "tags": [],
        "id": "powerful-marriage",
        "outputId": "d860f4c4-6572-42f7-9279-5e0d74af7284"
      },
      "outputs": [
        {
          "name": "stdout",
          "output_type": "stream",
          "text": [
            "    Loss: 0.2143\n",
            "Accuracy: 96.11%\n"
          ]
        }
      ],
      "source": [
        "results = model.evaluate(test_images, verbose=0)\n",
        "\n",
        "print(\"    Loss: {:.4f}\".format(results[0]))\n",
        "print(\"Accuracy: {:.2f}%\".format(results[1] * 100))"
      ]
    }
  ],
  "metadata": {
    "kernelspec": {
      "display_name": "Python 3",
      "language": "python",
      "name": "python3"
    },
    "language_info": {
      "codemirror_mode": {
        "name": "ipython",
        "version": 3
      },
      "file_extension": ".py",
      "mimetype": "text/x-python",
      "name": "python",
      "nbconvert_exporter": "python",
      "pygments_lexer": "ipython3",
      "version": "3.7.9"
    },
    "papermill": {
      "default_parameters": {},
      "duration": 60.000124,
      "end_time": "2021-05-14T02:03:50.225723",
      "environment_variables": {},
      "exception": null,
      "input_path": "__notebook__.ipynb",
      "output_path": "__notebook__.ipynb",
      "parameters": {},
      "start_time": "2021-05-14T02:02:50.225599",
      "version": "2.3.2"
    },
    "colab": {
      "provenance": [],
      "include_colab_link": true
    }
  },
  "nbformat": 4,
  "nbformat_minor": 5
}